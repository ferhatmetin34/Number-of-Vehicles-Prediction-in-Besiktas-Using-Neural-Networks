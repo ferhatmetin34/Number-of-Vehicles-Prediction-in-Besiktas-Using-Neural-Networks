{
 "metadata": {
  "language_info": {
   "codemirror_mode": {
    "name": "ipython",
    "version": 3
   },
   "file_extension": ".py",
   "mimetype": "text/x-python",
   "name": "python",
   "nbconvert_exporter": "python",
   "pygments_lexer": "ipython3",
   "version": "3.7.7"
  },
  "orig_nbformat": 2,
  "kernelspec": {
   "name": "python377jvsc74a57bd0a20733d2e16c949a1469d40e1adfe43a0a74d020c35bd1193ba7baa471c903e3",
   "display_name": "Python 3.7.7 64-bit ('base': conda)"
  }
 },
 "nbformat": 4,
 "nbformat_minor": 2,
 "cells": [
  {
   "cell_type": "code",
   "execution_count": 2,
   "metadata": {},
   "outputs": [],
   "source": [
    "\n",
    "import pandas as pd \n",
    "import numpy as np \n",
    "import folium\n",
    "from wwo_hist import retrieve_hist_data\n",
    "from sklearn.preprocessing import MinMaxScaler,StandardScaler,RobustScaler\n",
    "import datetime \n",
    "pd.set_option('display.max_columns', None)\n",
    "pd.set_option('display.max_rows',None)\n",
    "from urllib.request import urlretrieve"
   ]
  },
  {
   "cell_type": "code",
   "execution_count": 2,
   "metadata": {},
   "outputs": [
    {
     "output_type": "execute_result",
     "data": {
      "text/plain": [
       "('traffic_density_202102.csv', <http.client.HTTPMessage at 0x1da74a758c8>)"
      ]
     },
     "metadata": {},
     "execution_count": 2
    }
   ],
   "source": [
    "url1=\"https://data.ibb.gov.tr/dataset/3ee6d744-5da2-40c8-9cd6-0e3e41f1928f/resource/db9c7fb3-e7f9-435a-92f4-1b917e357821/download/traffic_density_202001.csv\"\n",
    "url2=\"https://data.ibb.gov.tr/dataset/3ee6d744-5da2-40c8-9cd6-0e3e41f1928f/resource/5fb30ee1-e079-4865-a8cd-16efe2be8352/download/traffic_density_202002.csv\"\n",
    "url3=\"https://data.ibb.gov.tr/dataset/3ee6d744-5da2-40c8-9cd6-0e3e41f1928f/resource/efff9df8-4f40-4a46-8c99-2b3b4c5e2b8c/download/traffic_density_202003.csv\"\n",
    "url4=\"https://data.ibb.gov.tr/dataset/3ee6d744-5da2-40c8-9cd6-0e3e41f1928f/resource/9ead7895-27fb-4aed-847f-ffe1504c36fa/download/traffic_density_202004.csv\"\n",
    "url5=\"https://data.ibb.gov.tr/dataset/3ee6d744-5da2-40c8-9cd6-0e3e41f1928f/resource/5c0da73a-2fd6-4f98-90fe-aa32ce98b607/download/traffic_density_202005.csv\"\n",
    "url6=\"https://data.ibb.gov.tr/dataset/3ee6d744-5da2-40c8-9cd6-0e3e41f1928f/resource/62099013-e557-4d23-a2c0-70f7ee89c3b9/download/traffic_density_202006.csv\"\n",
    "url7=\"https://data.ibb.gov.tr/dataset/3ee6d744-5da2-40c8-9cd6-0e3e41f1928f/resource/e5fb99b3-afa0-4a9d-9bc8-cf98940da082/download/traffic_density_202007.csv\"\n",
    "url8=\"https://data.ibb.gov.tr/dataset/3ee6d744-5da2-40c8-9cd6-0e3e41f1928f/resource/dc40309d-7fd6-43e2-ad85-5db9db133a5b/download/traffic_density_202008.csv\"\n",
    "url9=\"https://data.ibb.gov.tr/dataset/3ee6d744-5da2-40c8-9cd6-0e3e41f1928f/resource/ef34bd55-86d8-4459-a710-79de30a45be2/download/traffic_density_202009.csv\"\n",
    "url10=\"https://data.ibb.gov.tr/dataset/3ee6d744-5da2-40c8-9cd6-0e3e41f1928f/resource/949d4a3b-91d2-4c56-b82f-4ef081e39c45/download/traffic_density_202010.csv\"\n",
    "url11=\"https://data.ibb.gov.tr/dataset/3ee6d744-5da2-40c8-9cd6-0e3e41f1928f/resource/93f996f1-70da-4500-951a-693c7e7066f6/download/traffic_density_202011.csv\"\n",
    "url12=\"https://data.ibb.gov.tr/dataset/3ee6d744-5da2-40c8-9cd6-0e3e41f1928f/resource/3e3161d8-7668-4694-829c-9179b41a775b/download/traffic_density_202012.csv\"\n",
    "url13=\"https://data.ibb.gov.tr/dataset/3ee6d744-5da2-40c8-9cd6-0e3e41f1928f/resource/fb7094a3-cf2f-46a6-996a-f6a9c5f3b9be/download/traffic_density_202101.csv\"\n",
    "url14=\"https://data.ibb.gov.tr/dataset/3ee6d744-5da2-40c8-9cd6-0e3e41f1928f/resource/395811ac-4152-4e04-88ef-8d4e30e6ac17/download/traffic_density_202102.csv\"\n",
    "\n",
    "urlretrieve(url1, 'traffic_density_202001.csv')\n",
    "urlretrieve(url2,\"traffic_density_202002.csv\")\n",
    "urlretrieve(url3,\"traffic_density_202003.csv\")\n",
    "urlretrieve(url4,\"traffic_density_202004.csv\")\n",
    "urlretrieve(url5,\"traffic_density_202005.csv\")\n",
    "urlretrieve(url6,\"traffic_density_202006.csv\")\n",
    "urlretrieve(url7,\"traffic_density_202007.csv\")\n",
    "urlretrieve(url8,\"traffic_density_202008.csv\")\n",
    "urlretrieve(url9,\"traffic_density_202009.csv\")\n",
    "urlretrieve(url10,\"traffic_density_202010.csv\")\n",
    "urlretrieve(url11,\"traffic_density_202011.csv\")\n",
    "urlretrieve(url12,\"traffic_density_202012.csv\")\n",
    "urlretrieve(url13,\"traffic_density_202101.csv\")\n",
    "urlretrieve(url14,\"traffic_density_202102.csv\")"
   ]
  },
  {
   "cell_type": "code",
   "execution_count": 2,
   "metadata": {},
   "outputs": [],
   "source": [
    "df_january = pd.read_csv('traffic_density_202001.csv', sep=',')\n",
    "df_february = pd.read_csv('traffic_density_202002.csv', sep=',')\n",
    "df_march = pd.read_csv('traffic_density_202003.csv', sep=',')\n",
    "df_april = pd.read_csv('traffic_density_202004.csv', sep=',')\n",
    "df_may = pd.read_csv('traffic_density_202005.csv', sep=',')\n",
    "df_june = pd.read_csv('traffic_density_202006.csv', sep=',')\n",
    "df_july = pd.read_csv('traffic_density_202007.csv', sep=',')\n",
    "df_august=pd.read_csv('traffic_density_202008.csv', sep=',')\n",
    "df_september = pd.read_csv('traffic_density_202009.csv', sep=',')\n",
    "df_october = pd.read_csv('traffic_density_202010.csv', sep=',')\n",
    "df_november = pd.read_csv('traffic_density_202011.csv', sep=',')\n",
    "df_december = pd.read_csv('traffic_density_202012.csv', sep=',')\n",
    "\n",
    "\n",
    "df=pd.concat([df_january,df_february]).sort_values(by=\"DATE_TIME\")\n",
    "df=pd.concat([df,df_march]).sort_values(by=\"DATE_TIME\")\n",
    "df=pd.concat([df,df_april]).sort_values(by=\"DATE_TIME\")\n",
    "df=pd.concat([df,df_may]).sort_values(by=\"DATE_TIME\")\n",
    "df=pd.concat([df,df_june]).sort_values(by=\"DATE_TIME\")\n",
    "df=pd.concat([df,df_july]).sort_values(by=\"DATE_TIME\")\n",
    "df=pd.concat([df,df_august]).sort_values(by=\"DATE_TIME\")\n",
    "df=pd.concat([df,df_september]).sort_values(by=\"DATE_TIME\")\n",
    "df=pd.concat([df,df_october]).sort_values(by=\"DATE_TIME\")\n",
    "df=pd.concat([df,df_november]).sort_values(by=\"DATE_TIME\")\n",
    "df=pd.concat([df,df_december]).sort_values(by=\"DATE_TIME\")\n",
    "full_df=df.copy()"
   ]
  },
  {
   "cell_type": "code",
   "execution_count": 3,
   "metadata": {},
   "outputs": [
    {
     "output_type": "execute_result",
     "data": {
      "text/plain": [
       "                   DATE_TIME  LONGITUDE   LATITUDE GEOHASH  MINIMUM_SPEED  \\\n",
       "422139   2020-01-01 00:00:00  28.789673  41.009216  sxk3r1              6   \n",
       "811023   2020-01-01 00:00:00  29.207153  41.009216  sxkc29              6   \n",
       "143207   2020-01-01 00:00:00  28.580933  41.108093  sxk3f7             55   \n",
       "1285136  2020-01-01 00:00:00  28.646851  41.075134  sxk3ev             62   \n",
       "1036901  2020-01-01 00:00:00  29.273071  41.053162  sxkcd1             62   \n",
       "\n",
       "         MAXIMUM_SPEED  AVERAGE_SPEED  NUMBER_OF_VEHICLES  \n",
       "422139              58             27                  59  \n",
       "811023              71             36                  65  \n",
       "143207             160             97                  23  \n",
       "1285136            176            103                  33  \n",
       "1036901             99             82                  40  "
      ],
      "text/html": "<div>\n<style scoped>\n    .dataframe tbody tr th:only-of-type {\n        vertical-align: middle;\n    }\n\n    .dataframe tbody tr th {\n        vertical-align: top;\n    }\n\n    .dataframe thead th {\n        text-align: right;\n    }\n</style>\n<table border=\"1\" class=\"dataframe\">\n  <thead>\n    <tr style=\"text-align: right;\">\n      <th></th>\n      <th>DATE_TIME</th>\n      <th>LONGITUDE</th>\n      <th>LATITUDE</th>\n      <th>GEOHASH</th>\n      <th>MINIMUM_SPEED</th>\n      <th>MAXIMUM_SPEED</th>\n      <th>AVERAGE_SPEED</th>\n      <th>NUMBER_OF_VEHICLES</th>\n    </tr>\n  </thead>\n  <tbody>\n    <tr>\n      <th>422139</th>\n      <td>2020-01-01 00:00:00</td>\n      <td>28.789673</td>\n      <td>41.009216</td>\n      <td>sxk3r1</td>\n      <td>6</td>\n      <td>58</td>\n      <td>27</td>\n      <td>59</td>\n    </tr>\n    <tr>\n      <th>811023</th>\n      <td>2020-01-01 00:00:00</td>\n      <td>29.207153</td>\n      <td>41.009216</td>\n      <td>sxkc29</td>\n      <td>6</td>\n      <td>71</td>\n      <td>36</td>\n      <td>65</td>\n    </tr>\n    <tr>\n      <th>143207</th>\n      <td>2020-01-01 00:00:00</td>\n      <td>28.580933</td>\n      <td>41.108093</td>\n      <td>sxk3f7</td>\n      <td>55</td>\n      <td>160</td>\n      <td>97</td>\n      <td>23</td>\n    </tr>\n    <tr>\n      <th>1285136</th>\n      <td>2020-01-01 00:00:00</td>\n      <td>28.646851</td>\n      <td>41.075134</td>\n      <td>sxk3ev</td>\n      <td>62</td>\n      <td>176</td>\n      <td>103</td>\n      <td>33</td>\n    </tr>\n    <tr>\n      <th>1036901</th>\n      <td>2020-01-01 00:00:00</td>\n      <td>29.273071</td>\n      <td>41.053162</td>\n      <td>sxkcd1</td>\n      <td>62</td>\n      <td>99</td>\n      <td>82</td>\n      <td>40</td>\n    </tr>\n  </tbody>\n</table>\n</div>"
     },
     "metadata": {},
     "execution_count": 3
    }
   ],
   "source": [
    "full_df.head()"
   ]
  },
  {
   "cell_type": "code",
   "execution_count": 4,
   "metadata": {},
   "outputs": [
    {
     "output_type": "execute_result",
     "data": {
      "text/plain": [
       "(15233821, 8)"
      ]
     },
     "metadata": {},
     "execution_count": 4
    }
   ],
   "source": [
    "full_df.shape"
   ]
  },
  {
   "cell_type": "code",
   "execution_count": 5,
   "metadata": {},
   "outputs": [],
   "source": [
    "full_df.DATE_TIME=pd.to_datetime(full_df.DATE_TIME)\n",
    "full_df.columns=full_df.columns.str.lower()"
   ]
  },
  {
   "cell_type": "code",
   "execution_count": 6,
   "metadata": {},
   "outputs": [
    {
     "output_type": "execute_result",
     "data": {
      "text/plain": [
       "    latitude  longitude\n",
       "0  41.042175  29.009399\n",
       "1  41.047668  29.009399\n",
       "2  41.036682  28.998413\n",
       "3  41.053162  29.009399\n",
       "4  41.058655  29.009399"
      ],
      "text/html": "<div>\n<style scoped>\n    .dataframe tbody tr th:only-of-type {\n        vertical-align: middle;\n    }\n\n    .dataframe tbody tr th {\n        vertical-align: top;\n    }\n\n    .dataframe thead th {\n        text-align: right;\n    }\n</style>\n<table border=\"1\" class=\"dataframe\">\n  <thead>\n    <tr style=\"text-align: right;\">\n      <th></th>\n      <th>latitude</th>\n      <th>longitude</th>\n    </tr>\n  </thead>\n  <tbody>\n    <tr>\n      <th>0</th>\n      <td>41.042175</td>\n      <td>29.009399</td>\n    </tr>\n    <tr>\n      <th>1</th>\n      <td>41.047668</td>\n      <td>29.009399</td>\n    </tr>\n    <tr>\n      <th>2</th>\n      <td>41.036682</td>\n      <td>28.998413</td>\n    </tr>\n    <tr>\n      <th>3</th>\n      <td>41.053162</td>\n      <td>29.009399</td>\n    </tr>\n    <tr>\n      <th>4</th>\n      <td>41.058655</td>\n      <td>29.009399</td>\n    </tr>\n  </tbody>\n</table>\n</div>"
     },
     "metadata": {},
     "execution_count": 6
    }
   ],
   "source": [
    "loc_df=pd.DataFrame((\n",
    "(41.0421752929688, 29.0093994140625),\n",
    "\n",
    "(41.0476684570312,29.0093994140625),                   \n",
    "\n",
    "(41.0366821289062, 28.9984130859375),\n",
    "\n",
    "\n",
    "(41.0531616210938, 29.0093994140625),\n",
    "\n",
    "(41.0586547851562, 29.0093994140625),\n",
    "\n",
    "(41.0476684570312, 28.9874267578125),\n",
    "\n",
    "(41.0421752929688, 28.9874267578125),\n",
    "\n",
    "(41.0366821289062, 28.9874267578125),\n",
    "\n",
    "(41.0311889648438, 28.9874267578125),\n",
    "\n",
    "(41.0586547851562, 28.9984130859375),\n",
    "\n",
    "(41.0641479492188, 29.0093994140625),\n",
    "\n",
    "(41.0476684570312, 29.0203857421875),\n",
    "\n",
    "(41.0421752929688, 28.9984130859375),\n",
    "\n",
    "(41.0476684570312, 28.9984130859375),\n",
    "\n",
    "(41.0531616210938, 28.9984130859375),\n",
    "\n",
    "(41.0641479492188, 28.9984130859375)),\n",
    "\n",
    "columns=[\"latitude\",\"longitude\"])\n",
    "\n",
    "\n",
    "loc_df.head()"
   ]
  },
  {
   "cell_type": "code",
   "execution_count": 7,
   "metadata": {},
   "outputs": [
    {
     "output_type": "execute_result",
     "data": {
      "text/plain": [
       "(16, 2)"
      ]
     },
     "metadata": {},
     "execution_count": 7
    }
   ],
   "source": [
    "loc_df.shape"
   ]
  },
  {
   "cell_type": "code",
   "execution_count": 8,
   "metadata": {},
   "outputs": [],
   "source": [
    "region_1=full_df[(full_df[\"latitude\"]==loc_df.loc[0][0] ) & (full_df[\"longitude\"]==loc_df.loc[0][1])].sort_values(by=\"date_time\")\n",
    "\n",
    "region_2=full_df[(full_df[\"latitude\"]==loc_df.loc[1][0] ) & (full_df[\"longitude\"]==loc_df.loc[1][1])].sort_values(by=\"date_time\")\n",
    "\n",
    "region_3=full_df[(full_df[\"latitude\"]==loc_df.loc[2][0]) & (full_df[\"longitude\"]==loc_df.loc[2][1])].sort_values(by=\"date_time\")\n",
    "\n",
    "region_4=full_df[(full_df[\"latitude\"]==loc_df.loc[3][0] ) & (full_df[\"longitude\"]==loc_df.loc[3][1])].sort_values(by=\"date_time\")\n",
    "\n",
    "region_5=full_df[(full_df[\"latitude\"]==loc_df.loc[4][0] ) & (full_df[\"longitude\"]==loc_df.loc[4][1])].sort_values(by=\"date_time\")\n",
    "\n",
    "region_6=full_df[(full_df[\"latitude\"]==loc_df.loc[5][0]) & (full_df[\"longitude\"]==loc_df.loc[5][1])].sort_values(by=\"date_time\")\n",
    "region_7=full_df[(full_df[\"latitude\"]==loc_df.loc[6][0] ) & (full_df[\"longitude\"]==loc_df.loc[6][1])].sort_values(by=\"date_time\")\n",
    "\n",
    "region_8=full_df[(full_df[\"latitude\"]==loc_df.loc[7][0] ) & (full_df[\"longitude\"]==loc_df.loc[7][1])].sort_values(by=\"date_time\")\n",
    "\n",
    "region_9=full_df[(full_df[\"latitude\"]==loc_df.loc[8][0]) & (full_df[\"longitude\"]==loc_df.loc[8][1])].sort_values(by=\"date_time\")\n",
    "region_10=full_df[(full_df[\"latitude\"]==loc_df.loc[9][0] ) & (full_df[\"longitude\"]==loc_df.loc[9][1])].sort_values(by=\"date_time\")\n",
    "\n",
    "region_11=full_df[(full_df[\"latitude\"]==loc_df.loc[10][0] ) & (full_df[\"longitude\"]==loc_df.loc[10][1])].sort_values(by=\"date_time\")\n",
    "\n",
    "region_12=full_df[(full_df[\"latitude\"]==loc_df.loc[11][0]) & (full_df[\"longitude\"]==loc_df.loc[11][1])].sort_values(by=\"date_time\")\n",
    "\n",
    "region_13=full_df[(full_df[\"latitude\"]==loc_df.loc[12][0]) & (full_df[\"longitude\"]==loc_df.loc[12][1])].sort_values(by=\"date_time\")\n",
    "\n",
    "region_14=full_df[(full_df[\"latitude\"]==loc_df.loc[13][0]) & (full_df[\"longitude\"]==loc_df.loc[13][1])].sort_values(by=\"date_time\")\n",
    "\n",
    "region_15=full_df[(full_df[\"latitude\"]==loc_df.loc[14][0]) & (full_df[\"longitude\"]==loc_df.loc[14][1])].sort_values(by=\"date_time\")\n",
    "\n",
    "region_16=full_df[(full_df[\"latitude\"]==loc_df.loc[15][0]) & (full_df[\"longitude\"]==loc_df.loc[15][1])].sort_values(by=\"date_time\")\n"
   ]
  },
  {
   "cell_type": "code",
   "execution_count": 11,
   "metadata": {},
   "outputs": [],
   "source": [
    "\n",
    "region_1.to_csv(r\"region_1.csv\")\n",
    "region_2.to_csv(r\"region_2.csv\")\n",
    "region_3.to_csv(r\"region_3.csv\")\n",
    "region_4.to_csv(r\"region_4.csv\")\n",
    "region_5.to_csv(r\"region_5.csv\")\n",
    "region_6.to_csv(r\"region_6.csv\")\n",
    "region_7.to_csv(r\"region_7.csv\")\n",
    "region_8.to_csv(r\"region_8.csv\")\n",
    "region_9.to_csv(r\"region_9.csv\")\n",
    "region_10.to_csv(r\"region_10.csv\")\n",
    "region_11.to_csv(r\"region_11.csv\")\n",
    "region_12.to_csv(r\"region_12.csv\")\n",
    "region_13.to_csv(r\"region_13.csv\")\n",
    "region_14.to_csv(r\"region_14.csv\")\n",
    "region_15.to_csv(r\"region_15.csv\")\n",
    "region_16.to_csv(r\"region_16.csv\")"
   ]
  },
  {
   "cell_type": "code",
   "execution_count": 18,
   "metadata": {},
   "outputs": [],
   "source": [
    "def create_data(df,i):\n",
    "    koordinatlar=list(set(zip(df.latitude,df.longitude)))\n",
    "    long=koordinatlar[i][1]\n",
    "    lat=koordinatlar[i][0]\n",
    "    #print(long,lat)\n",
    "    new_data=df[(df.latitude==lat)&(df.longitude==long)].sort_values(by=\"date_time\")\n",
    "    return new_data\n",
    "\n",
    "def extract_date(data):\n",
    "    data[\"hour\"]=data.date_time.dt.hour\n",
    "    data[\"month\"]=data.date_time.dt.month\n",
    "    data[\"week\"]=data.date_time.dt.week\n",
    "    data['dayofweek'] = data.date_time.dt.dayofweek\n",
    "    data[\"dayofmonth\"]=data.date_time.dt.day\n",
    "    data[\"day_name\"]=data.date_time.dt.day_name()\n",
    "    data['is_weekend'] = np.where(data['day_name'].isin(['Sunday', 'Saturday']), 1,0)\n",
    "    return data"
   ]
  },
  {
   "cell_type": "code",
   "execution_count": 15,
   "metadata": {},
   "outputs": [
    {
     "output_type": "stream",
     "name": "stdout",
     "text": [
      "\n",
      "\n",
      "Retrieving weather data for Besiktas\n",
      "\n",
      "\n",
      "Currently retrieving data for Besiktas: from 2020-01-01 to 2020-01-31\n",
      "Time elapsed (hh:mm:ss.ms) 0:00:03.158814\n",
      "Currently retrieving data for Besiktas: from 2020-02-01 to 2020-02-29\n",
      "Time elapsed (hh:mm:ss.ms) 0:00:04.584831\n",
      "Currently retrieving data for Besiktas: from 2020-03-01 to 2020-03-31\n",
      "Time elapsed (hh:mm:ss.ms) 0:00:06.001236\n",
      "Currently retrieving data for Besiktas: from 2020-04-01 to 2020-04-30\n",
      "Time elapsed (hh:mm:ss.ms) 0:00:08.326265\n",
      "Currently retrieving data for Besiktas: from 2020-05-01 to 2020-05-31\n",
      "Time elapsed (hh:mm:ss.ms) 0:00:10.235076\n",
      "Currently retrieving data for Besiktas: from 2020-06-01 to 2020-06-30\n",
      "Time elapsed (hh:mm:ss.ms) 0:00:12.071341\n",
      "Currently retrieving data for Besiktas: from 2020-07-01 to 2020-07-31\n",
      "Time elapsed (hh:mm:ss.ms) 0:00:14.323852\n",
      "Currently retrieving data for Besiktas: from 2020-08-01 to 2020-08-31\n",
      "Time elapsed (hh:mm:ss.ms) 0:00:16.255364\n",
      "Currently retrieving data for Besiktas: from 2020-09-01 to 2020-09-30\n",
      "Time elapsed (hh:mm:ss.ms) 0:00:19.069566\n",
      "Currently retrieving data for Besiktas: from 2020-10-01 to 2020-10-31\n",
      "Time elapsed (hh:mm:ss.ms) 0:00:21.358799\n",
      "Currently retrieving data for Besiktas: from 2020-11-01 to 2020-11-30\n",
      "Time elapsed (hh:mm:ss.ms) 0:00:23.130233\n",
      "Currently retrieving data for Besiktas: from 2020-12-01 to 2020-12-27\n",
      "Time elapsed (hh:mm:ss.ms) 0:00:33.592770\n",
      "\n",
      "\n",
      "export Besiktas completed!\n",
      "\n",
      "\n"
     ]
    }
   ],
   "source": [
    "api_key=\"ce5f333abfd24db6950113925211702\"\n",
    "location_list=[\"Besiktas\"]\n",
    "frequency=\"1\"\n",
    "start_date=\"1-JANUARY-2020\"\n",
    "end_date=\"27-DECEMBER-2020\"\n",
    "\n",
    "hist_weather_data=retrieve_hist_data(api_key=api_key,\n",
    "                                    location_list=location_list,\n",
    "                                    start_date=start_date,\n",
    "                                    frequency=frequency,\n",
    "                                    end_date=end_date,\n",
    "                                    location_label=False,\n",
    "                                    export_csv=True,\n",
    "                                    store_df=True)"
   ]
  },
  {
   "cell_type": "code",
   "execution_count": 55,
   "metadata": {},
   "outputs": [
    {
     "output_type": "stream",
     "name": "stderr",
     "text": [
      "ipykernel_launcher:12: FutureWarning: Series.dt.weekofyear and Series.dt.week have been deprecated.  Please use Series.dt.isocalendar().week instead.\n"
     ]
    }
   ],
   "source": [
    "weather_cond=pd.read_csv(\"Besiktas.csv\")\n",
    "weather_cond.date_time=pd.to_datetime(weather_cond.date_time)\n",
    "\n",
    "full_data=pd.merge(region_5,weather_cond,on=[\"date_time\"],how=\"left\").drop_duplicates(\"date_time\").reset_index(drop=True)\n",
    "\n",
    "\n",
    "full_data=extract_date(full_data)\n",
    "\n",
    "columns=['date_time','minimum_speed', 'maximum_speed', 'average_speed', 'number_of_vehicles', \n",
    "        'WindGustKmph', 'cloudcover', 'humidity', 'maxtempC', 'mintempC',\n",
    "        'precipMM', 'pressure', 'tempC','winddirDegree',\"hour\",\"month\",\"dayofweek\",\"dayofmonth\",\"is_weekend\"]\n",
    "\n",
    "full_data=full_data[columns]\n",
    "\n",
    "\n",
    "full_data[\"arac_sayi(t-1)\"]=full_data.number_of_vehicles.shift(1)\n",
    "full_data[\"arac_sayi(t-2)\"]=full_data.number_of_vehicles.shift(2)\n",
    "full_data[\"arac_sayi(t-3)\"]=full_data.number_of_vehicles.shift(3)\n",
    "full_data[\"arac_sayi(t-4)\"]=full_data.number_of_vehicles.shift(4)\n",
    "full_data[\"arac_sayi(t-5)\"]=full_data.number_of_vehicles.shift(5)\n",
    "full_data[\"arac_sayi(t-6)\"]=full_data.number_of_vehicles.shift(6)\n",
    "full_data[\"arac_sayi(t-12)\"]=full_data.number_of_vehicles.shift(12)\n",
    "full_data[\"arac_sayi(t-24)\"]=full_data.number_of_vehicles.shift(24)\n",
    "full_data[\"arac_sayi(t-48)\"]=full_data.number_of_vehicles.shift(48)\n",
    "\n",
    "\n",
    "full_data[\"arac_sayi(t-1)\"].fillna(method=\"bfill\",inplace=True)\n",
    "full_data[\"arac_sayi(t-2)\"].fillna(method=\"bfill\",inplace=True)\n",
    "full_data[\"arac_sayi(t-3)\"].fillna(method=\"bfill\",inplace=True)\n",
    "full_data[\"arac_sayi(t-4)\"].fillna(method=\"bfill\",inplace=True)\n",
    "full_data[\"arac_sayi(t-5)\"].fillna(method=\"bfill\",inplace=True)\n",
    "full_data[\"arac_sayi(t-6)\"].fillna(method=\"bfill\",inplace=True)\n",
    "full_data[\"arac_sayi(t-12)\"].fillna(method=\"bfill\",inplace=True)\n",
    "full_data[\"arac_sayi(t-24)\"].fillna(method=\"bfill\",inplace=True)\n",
    "full_data[\"arac_sayi(t-48)\"].fillna(method=\"bfill\",inplace=True)\n",
    "\n",
    "full_data.loc[(full_data[\"date_time\"]>=\"2020-04-24\") & (full_data[\"date_time\"]<=\"2020-05-26\"),\"ramazan\"]=1\n",
    "full_data.ramazan=full_data.ramazan.fillna(0)\n",
    "\n",
    "full_data.loc[(full_data[\"date_time\"]>=\"2020-07-31\") & (full_data[\"date_time\"]<=\"2020-08-03\"),\"kurban\"]=1\n",
    "full_data.kurban=full_data.kurban.fillna(0)\n",
    "\n",
    "full_data=full_data.sort_values(by=\"date_time\").reset_index(drop=True)\n",
    "\n"
   ]
  },
  {
   "cell_type": "code",
   "execution_count": null,
   "metadata": {},
   "outputs": [],
   "source": []
  }
 ]
}